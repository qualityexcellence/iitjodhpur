{
  "cells": [
    {
      "cell_type": "markdown",
      "metadata": {
        "id": "view-in-github",
        "colab_type": "text"
      },
      "source": [
        "<a href=\"https://colab.research.google.com/github/qualityexcellence/iitjodhpur/blob/main/Copy_of_02_Introduction.ipynb\" target=\"_parent\"><img src=\"https://colab.research.google.com/assets/colab-badge.svg\" alt=\"Open In Colab\"/></a>"
      ]
    },
    {
      "cell_type": "markdown",
      "metadata": {
        "id": "-lTtjfSiSibs"
      },
      "source": [
        "<h1 style=\"color:#6C3483\" align=\"center\">Python: An Introduction</h1>"
      ]
    },
    {
      "cell_type": "markdown",
      "source": [
        "### \"Hello world\" in Python!"
      ],
      "metadata": {
        "id": "D0ebKhqVZIn-"
      }
    },
    {
      "cell_type": "code",
      "source": [
        "print('Hello Python world!')\n",
        "print(\"We are travelling to your world!\")"
      ],
      "metadata": {
        "colab": {
          "base_uri": "https://localhost:8080/"
        },
        "id": "Ga_9tgKZo9gd",
        "outputId": "7cd69e5a-72c6-4192-cda0-b3a0bf238cd2"
      },
      "execution_count": null,
      "outputs": [
        {
          "output_type": "stream",
          "name": "stdout",
          "text": [
            "Hello Python world!\n",
            "We are travelling to your world!\n"
          ]
        }
      ]
    },
    {
      "cell_type": "code",
      "source": [
        "print('Hello Python world!')\n",
        "print('We are travelling to your world!')"
      ],
      "metadata": {
        "colab": {
          "base_uri": "https://localhost:8080/"
        },
        "id": "5F6jS1bqZX-4",
        "outputId": "b99d9c0c-03d7-4f25-e83f-d7f24a9f72a0"
      },
      "execution_count": null,
      "outputs": [
        {
          "output_type": "stream",
          "name": "stdout",
          "text": [
            "Hello Python world!\n",
            "We are travelling to your world!\n"
          ]
        }
      ]
    },
    {
      "cell_type": "code",
      "source": [
        "print(5%6)"
      ],
      "metadata": {
        "colab": {
          "base_uri": "https://localhost:8080/"
        },
        "id": "gKUUMOUi3f5-",
        "outputId": "4c0ba0cd-bab6-45f9-d76c-6f499481c9c3"
      },
      "execution_count": null,
      "outputs": [
        {
          "output_type": "stream",
          "name": "stdout",
          "text": [
            "5\n"
          ]
        }
      ]
    },
    {
      "cell_type": "markdown",
      "source": [
        "# Python's Syntax\n",
        "\n",
        "* ### Indentation\n",
        "\n",
        "* ### Identifiers\n",
        "\n",
        "* ### Comments"
      ],
      "metadata": {
        "id": "HfF222QAaWd2"
      }
    },
    {
      "cell_type": "markdown",
      "source": [
        "## Indentation\n",
        "\n",
        "In order to separate blocks of code (like for loops, if blocks and function definitions) the compiler/interpreter needs something to tell it when a block ends. Curly braces and end statements are perfectly valid ways of providing this information for the compiler. For a human to be able to read the code indentation is a much better way of providing the visual cues about block structure.\n",
        "Python does not mandate how you indent (two spaces or four, tabs or spaces - but not both), just that you do it consistently. Those that get used to the Python way of doing things tend to start seeing curly braces as unnecessary line noise that clutters code.\n"
      ],
      "metadata": {
        "id": "Wmu3qr_wbm2D"
      }
    },
    {
      "cell_type": "code",
      "source": [
        "if 11 > 12:\n",
        "  print(\"abc\")\n",
        "print(\"Ten is greater than nine!\")\n",
        "print('Hello')"
      ],
      "metadata": {
        "colab": {
          "base_uri": "https://localhost:8080/"
        },
        "id": "JRB4lSGJbuA6",
        "outputId": "daa83974-cd9f-4b3a-9459-40be561e6ed0"
      },
      "execution_count": null,
      "outputs": [
        {
          "output_type": "stream",
          "name": "stdout",
          "text": [
            "abc\n",
            "Ten is greater than nine!\n",
            "Hello\n"
          ]
        }
      ]
    },
    {
      "cell_type": "code",
      "source": [
        "if 10 > 9:\n",
        "print(\"Ten is greater than nine!\")"
      ],
      "metadata": {
        "colab": {
          "base_uri": "https://localhost:8080/",
          "height": 106
        },
        "id": "UKxakKxBbux4",
        "outputId": "7556072e-a9ea-4fa5-fb53-394e1983e2c2"
      },
      "execution_count": null,
      "outputs": [
        {
          "output_type": "error",
          "ename": "IndentationError",
          "evalue": "expected an indented block after 'if' statement on line 1 (<ipython-input-4-86ff60ad584c>, line 2)",
          "traceback": [
            "\u001b[0;36m  File \u001b[0;32m\"<ipython-input-4-86ff60ad584c>\"\u001b[0;36m, line \u001b[0;32m2\u001b[0m\n\u001b[0;31m    print(\"Ten is greater than nine!\")\u001b[0m\n\u001b[0m    ^\u001b[0m\n\u001b[0;31mIndentationError\u001b[0m\u001b[0;31m:\u001b[0m expected an indented block after 'if' statement on line 1\n"
          ]
        }
      ]
    },
    {
      "cell_type": "markdown",
      "source": [
        "* *Just remember that the number of spaces is up to you, but it has to be at least one(usually we use four).*"
      ],
      "metadata": {
        "id": "chEf6In4b8sI"
      }
    },
    {
      "cell_type": "code",
      "source": [
        "if 10 > 9:\n",
        "  print(\"Ten is greater than nine!\")\n",
        "  if 10 > 9:\n",
        "          print(\"Ten is greater than nine!\")\n",
        "          print(\"Hello\")"
      ],
      "metadata": {
        "colab": {
          "base_uri": "https://localhost:8080/"
        },
        "id": "scCpDx-Fb9W2",
        "outputId": "e3a4a4c9-7aa7-4be7-b242-3ee3b9edecb3"
      },
      "execution_count": null,
      "outputs": [
        {
          "output_type": "stream",
          "name": "stdout",
          "text": [
            "Ten is greater than nine!\n",
            "Ten is greater than nine!\n",
            "Hello\n"
          ]
        }
      ]
    },
    {
      "cell_type": "markdown",
      "source": [
        "* <mark>You have to use the same number of spaces in the same block of code, otherwise Python will give you an error:</mark>"
      ],
      "metadata": {
        "id": "EJoAQRMEcAqG"
      }
    },
    {
      "cell_type": "code",
      "source": [
        "if 5 > 2:\n",
        " print(\"Five is greater than two!\")\n",
        "           print(\"This will cause an error!🙄\")"
      ],
      "metadata": {
        "colab": {
          "base_uri": "https://localhost:8080/"
        },
        "id": "_UkqBfq8cI2C",
        "outputId": "59250321-0de7-47be-9a6e-52953f064efe"
      },
      "execution_count": null,
      "outputs": [
        {
          "output_type": "stream",
          "name": "stdout",
          "text": [
            "Five is greater than two!\n",
            "This will cause an error!🙄\n"
          ]
        }
      ]
    },
    {
      "cell_type": "markdown",
      "source": [
        "## Identifiers (variables)\n",
        "\n",
        "Identifiers in Python are case-sensitive, so temperature and Temperature are distinct names. Identifiers can be composed of almost any combination of letters, numerals, and underscore characters (or more general Unicode characters). The primary restrictions are that an identifier cannot begin with a numeral (thus 9lives is an illegal name), and that there are 33 specially reserved words that cannot be used as identifiers, as shown in table below:\n",
        "\n",
        "|           |           |           |           |           |           |           |\n",
        "|:---------:|:---------:|:---------:|:---------:|:---------:|:---------:|:---------:|\n",
        "|   False   |  assert   |  del      |  for      |  in       |  or       |  while    |\n",
        "|   None    |  break    |  elif     |  from     |  is       |  pass     |  with     |\n",
        "|   True    |  class    |  else     |  global   |  lambda   |  raise    |  yield    |\n",
        "|   And     |  continue |  except   |  if       |  nonlocal |  return   |           |\n",
        "|   as      |  def      |  finally  |  import   |  not      |  try      |           |\n"
      ],
      "metadata": {
        "id": "Tw1DSjrGcNpK"
      }
    },
    {
      "cell_type": "markdown",
      "source": [
        "* *In Python, variables are created when you assign a value to it:*\n",
        "\n",
        "The most commonly used methods of constructing a multi-word variable name are the last three examples:\n",
        "\n",
        "Camel Case: Second and subsequent words are capitalized, to make word boundaries easier to see. (Presumably, it struck someone at some point that the capital letters strewn throughout the variable name vaguely resemble camel humps.)\n",
        "\n",
        "Example: numberOfCollegeGraduates\n",
        "\n",
        "Pascal Case: Identical to Camel Case, except the first word is also capitalized.\n",
        "\n",
        "Example: NumberOfCollegeGraduates\n",
        "\n",
        "Snake Case: Words are separated by underscores.\n",
        "\n",
        "Example: number_of_college_graduates\n"
      ],
      "metadata": {
        "id": "3h1f_nugdBfQ"
      }
    },
    {
      "cell_type": "code",
      "source": [
        "nine = 9\n",
        "are_we_in_class = True\n",
        "print(nine)\n",
        "print(are_we_in_class)\n",
        "print(not are_we_in_class)  # pay attention"
      ],
      "metadata": {
        "id": "dkDaHg5BdLco",
        "colab": {
          "base_uri": "https://localhost:8080/"
        },
        "outputId": "68d653d4-b851-4f63-dbfd-5f12698ad5f1"
      },
      "execution_count": null,
      "outputs": [
        {
          "output_type": "stream",
          "name": "stdout",
          "text": [
            "9\n",
            "True\n",
            "False\n"
          ]
        }
      ]
    },
    {
      "cell_type": "markdown",
      "source": [
        "* ### switching/swapping values\n",
        "\n",
        "How to switch values in python? here is how:"
      ],
      "metadata": {
        "id": "P9F43fOCdi5F"
      }
    },
    {
      "cell_type": "code",
      "source": [
        "a = 8\n",
        "b = 7\n",
        "print(\"initial values: \")\n",
        "print(\"a: \", a)\n",
        "print(\"b: \", b)\n",
        "# we introduce an auxiliary variable and assign the first variable to it, then we do the switching as follows:\n",
        "c = a\n",
        "a = b\n",
        "b = c\n",
        "print(\"modified values: \")\n",
        "print(\"a: \", a)\n",
        "print(\"b: \", b)"
      ],
      "metadata": {
        "colab": {
          "base_uri": "https://localhost:8080/"
        },
        "id": "hqA6d8_adl5r",
        "outputId": "7b381da3-7bd0-4937-facd-198e668fb1f9"
      },
      "execution_count": null,
      "outputs": [
        {
          "output_type": "stream",
          "name": "stdout",
          "text": [
            "initial values: \n",
            "a:  8\n",
            "b:  7\n",
            "modified values: \n",
            "a:  7\n",
            "b:  8\n"
          ]
        }
      ]
    },
    {
      "cell_type": "markdown",
      "source": [
        "*here is a much simpler method to switch values in python:*"
      ],
      "metadata": {
        "id": "R3fiDGZbdv_A"
      }
    },
    {
      "cell_type": "code",
      "source": [
        "c = 9\n",
        "d = 10\n",
        "print(\"initial values: \")\n",
        "print(\"c: \", c)\n",
        "print(\"d: \", d)\n",
        "c, d = d, c  # Here we are using tuples secretly.\n",
        "print(\"modified values: \")\n",
        "print(\"c: \", c)\n",
        "print(\"d: \", d)"
      ],
      "metadata": {
        "colab": {
          "base_uri": "https://localhost:8080/"
        },
        "id": "vNdMP031dxgw",
        "outputId": "a32c82f8-d42c-4006-c0a4-68a3740081a4"
      },
      "execution_count": null,
      "outputs": [
        {
          "output_type": "stream",
          "name": "stdout",
          "text": [
            "initial values: \n",
            "c:  9\n",
            "d:  10\n",
            "modified values: \n",
            "c:  10\n",
            "d:  9\n"
          ]
        }
      ]
    },
    {
      "cell_type": "markdown",
      "source": [
        "## Comments\n",
        "\n",
        "Python provides three kinds of comments including: 1) block comment, 2) inline comment, and 3) documentation string.\n"
      ],
      "metadata": {
        "id": "PIj5jDG8eGB_"
      }
    },
    {
      "cell_type": "markdown",
      "source": [
        "### 1) Python block comments\n",
        "\n",
        "    A block comment explains the code that follows it. Typically, you indent a block comment at the same level as the code block."
      ],
      "metadata": {
        "id": "9i-drzpfeJJo"
      }
    },
    {
      "cell_type": "code",
      "source": [
        "# increase price by 5%\n",
        "# This is myu 1st code\n",
        "# That will help you letter\n",
        "price = 1\n",
        "price = price * 1.05\n",
        "print('price', price)"
      ],
      "metadata": {
        "colab": {
          "base_uri": "https://localhost:8080/"
        },
        "id": "iVcXO2gxejyg",
        "outputId": "beaa6fa8-8943-4da8-9ab1-3dbc79b4a6b7"
      },
      "execution_count": null,
      "outputs": [
        {
          "output_type": "stream",
          "name": "stdout",
          "text": [
            "price 1.05\n"
          ]
        }
      ]
    },
    {
      "cell_type": "markdown",
      "source": [
        "\n",
        "\n",
        "```\n",
        "# This is formatted as code\n",
        "```\n",
        "\n",
        "### 2) Python inline comments\n",
        "\n",
        "    When you place a comment on the same line as a statement, you’ll have an inline comment."
      ],
      "metadata": {
        "id": "sy9E91Cdek0A"
      }
    },
    {
      "cell_type": "code",
      "source": [
        "salary = 3500\n",
        "salary = salary * 1.02   # increase salary by 2%\n",
        "print(salary) #### Anything"
      ],
      "metadata": {
        "colab": {
          "base_uri": "https://localhost:8080/"
        },
        "id": "MUIbfU-heSuS",
        "outputId": "238397ae-6e2b-427d-bf52-e6de395534c3"
      },
      "execution_count": null,
      "outputs": [
        {
          "output_type": "stream",
          "name": "stdout",
          "text": [
            "3570.0\n"
          ]
        }
      ]
    },
    {
      "cell_type": "markdown",
      "source": [
        "### 3) Python docstrings\n",
        "\n",
        "A **documentation string** is a string literal that you put as the first lines in a code block, for example, a function.\n",
        "\n",
        "Unlike a regular comment, a documentation string can be accessed at run-time using  obj.__doc__ attribute where obj is the name of the function.\n",
        "\n",
        "Typically, you use a documentation string to automatically generate the code documentation.\n",
        "\n",
        "Documentation strings is called docstrings.\n",
        "\n",
        "Technically speaking, docstrings are not the comments. They create anonymous variables that reference the strings. Also, they’re not ignored by the Python interpreter.\n",
        "\n",
        "1. **One-line docstrings**\n",
        "\n",
        "    As its name implies, a one-line docstring fits one line. A one-line docstring begins with triple quotes (\"\"\") and also ends with triple quotes (\"\"\"). Also, there won’t be any blank line either before or after the one-line docstring."
      ],
      "metadata": {
        "id": "qmRT3StUfNGs"
      }
    },
    {
      "cell_type": "code",
      "source": [
        "def quicksort():\n",
        "    \"\"\" sort the list using quicksort algorithm \"\"\""
      ],
      "metadata": {
        "id": "LsY9e7wlfnDf"
      },
      "execution_count": null,
      "outputs": []
    },
    {
      "cell_type": "markdown",
      "source": [
        "2. **Multi-line docstrings**\n",
        "\n",
        "    Unlike a one-line docstring, a multi-line docstring can span multiple lines. A multi-line docstring also starts with triple quotes (\"\"\") and ends with triple quotes (\"\"\")."
      ],
      "metadata": {
        "id": "ouEw80pZfnz3"
      }
    },
    {
      "cell_type": "code",
      "source": [
        "def increase(salary, percentage, rating):\n",
        "    \"\"\"\n",
        "    increase salary base on rating and percentage\n",
        "    rating 1 - 2 no increase\n",
        "    rating 3 - 4 increase 5%\n",
        "    rating 4 - 6 increase 10%\n",
        "    \"\"\""
      ],
      "metadata": {
        "id": "8qN0Y8fff-Iy"
      },
      "execution_count": null,
      "outputs": []
    },
    {
      "cell_type": "code",
      "source": [],
      "metadata": {
        "id": "Z8BeJc-Q7v9h"
      },
      "execution_count": null,
      "outputs": []
    }
  ],
  "metadata": {
    "kernelspec": {
      "display_name": "Python 3",
      "language": "python",
      "name": "python3"
    },
    "language_info": {
      "codemirror_mode": {
        "name": "ipython",
        "version": 3
      },
      "file_extension": ".py",
      "mimetype": "text/x-python",
      "name": "python",
      "nbconvert_exporter": "python",
      "pygments_lexer": "ipython3",
      "version": "3.7.0"
    },
    "colab": {
      "provenance": [],
      "include_colab_link": true
    }
  },
  "nbformat": 4,
  "nbformat_minor": 0
}